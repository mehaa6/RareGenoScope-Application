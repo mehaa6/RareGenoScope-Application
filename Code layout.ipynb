{
 "cells": [
  {
   "cell_type": "markdown",
   "id": "30bc3304",
   "metadata": {},
   "source": [
    "1) Querying the associated genes to Dravet Syndrome "
   ]
  },
  {
   "cell_type": "code",
   "execution_count": null,
   "id": "1191130a",
   "metadata": {},
   "outputs": [],
   "source": [
    "SELECT DISTINCT ?gene ?geneName\n",
    "WHERE {\n",
    "\t?gda sio:SIO_000628 ?gene, ?disease .\n",
    "\t?gene rdf:type ncit:C16612 ;\n",
    "\t\tdcterms:title ?geneName .\n",
    "\t?disease rdf:type ncit:C7057 ;\n",
    "\t\tdcterms:title \"Infantile Severe Myoclonic Epilepsy\"@en .\n",
    "}\n"
   ]
  },
  {
   "cell_type": "code",
   "execution_count": null,
   "id": "2d63d8f3",
   "metadata": {},
   "outputs": [],
   "source": [
    "2) Querying the associated diseases to SCN1A"
   ]
  },
  {
   "cell_type": "code",
   "execution_count": null,
   "id": "e235f9a8",
   "metadata": {},
   "outputs": [],
   "source": [
    "SELECT DISTINCT ?disease ?diseaseName \n",
    "WHERE { \n",
    "  ?gda sio:SIO_000628 ?gene, ?disease . \n",
    "  ?gene rdf:type ncit:C16612 . \n",
    "  ?disease dcterms:title ?diseaseName . \n",
    "} \n"
   ]
  },
  {
   "cell_type": "code",
   "execution_count": null,
   "id": "00dfde1c",
   "metadata": {},
   "outputs": [],
   "source": [
    "3) Overlap between gene and disease results \n"
   ]
  },
  {
   "cell_type": "code",
   "execution_count": null,
   "id": "7e40ecdd",
   "metadata": {},
   "outputs": [],
   "source": [
    "SELECT DISTINCT ?gene ?geneName ?disease ?diseaseName\n",
    "WHERE {\n",
    "\t?gda sio:SIO_000628 ?gene, ?disease .\n",
    "\t?gene rdf:type ncit:C16612 ;\n",
    "\t\tdcterms:title ?geneName .\n",
    "\t?disease rdf:type ncit:C7057 ;\n",
    "\t\tdcterms:title \"Infantile Severe Myoclonic Epilepsy\"@en .\n",
    "\t?gda2 sio:SIO_000628 ?gene, ?disease2 .\n",
    "\t?disease2 dcterms:title ?diseaseName .\n",
    "\tFILTER (?disease != ?disease2)\n",
    "}\n"
   ]
  },
  {
   "cell_type": "code",
   "execution_count": null,
   "id": "8da23925",
   "metadata": {},
   "outputs": [],
   "source": [
    "4) Find the protiens linked to these results "
   ]
  },
  {
   "cell_type": "code",
   "execution_count": null,
   "id": "bec110b6",
   "metadata": {},
   "outputs": [],
   "source": [
    "library(curl)\n",
    "library(jsonlite)\n",
    "\n",
    "# URL for STRING API query\n",
    "query <- \"SCN1A%0dDravet%20syndrome\"\n",
    "url <- paste0(\"https://string-db.org/api/json/get_string_ids?identifiers=\", query, \"&species=9606\")\n",
    "\n",
    "# API request\n",
    "handle <- curl(url)\n",
    "results <- readLines(handle)\n",
    "close(handle)\n",
    "\n",
    "json <- fromJSON(results)\n",
    "\n",
    "# get protein IDs for SCN1A gene\n",
    "scn1a_protein_ids <- json$stringId[json$preferredName == \"SCN1A\"]\n",
    "print(scn1a_protein_ids)\n",
    "\n",
    "# get protein IDs for Dravet syndrome\n",
    "dravet_protein_ids <- json$stringId[json$preferredName == \"Dravet syndrome\"]\n",
    "print(dravet_protein_ids)\n",
    "\n"
   ]
  },
  {
   "cell_type": "code",
   "execution_count": null,
   "id": "61a1ace3",
   "metadata": {},
   "outputs": [],
   "source": [
    "5) network construction of this information"
   ]
  },
  {
   "cell_type": "code",
   "execution_count": null,
   "id": "caaac3a7",
   "metadata": {},
   "outputs": [],
   "source": [
    "# protein nodes\n",
    "proteins <- c(\"SCN1A\", scn1a_protein_ids)\n",
    "diseases<- c(\"Dravet syndrome\", dravet_protein_ids)\n",
    "\n",
    "# edges\n",
    "edges <- matrix(c(\"SCN1A\", scn1a_protein_ids), ncol = 2, byrow = TRUE)\n",
    "\n",
    "# create graph \n",
    "g <- graph_from_edgelist(edges, directed = TRUE)\n",
    "\n",
    "# Set node names\n",
    "V(g)$label <- proteins\n",
    "\n",
    "# node colors\n",
    "V(g)$color <- ifelse(V(g)$label == \"SCN1A\", \"red\", \"blue\")\n",
    "\n",
    "# edge colors\n",
    "E(g)$color <- \"black\"\n",
    "  \n",
    "# plot network\n",
    "plot(g, edge.curved = 0.2, edge.arrow.size = 0.5, layout = layout_nicely)\n"
   ]
  },
  {
   "cell_type": "code",
   "execution_count": null,
   "id": "1ecec567",
   "metadata": {},
   "outputs": [],
   "source": [
    "6) Query drug targets from drugbank of the protien, gene and disease + network construction \n"
   ]
  },
  {
   "cell_type": "code",
   "execution_count": null,
   "id": "bdb78563",
   "metadata": {},
   "outputs": [],
   "source": [
    "library(curl)\n",
    "library(jsonlite)\n",
    "library(igraph)\n",
    "\n",
    "# URL for STRING API query\n",
    "query <- \"SCN1A%0dDravet%20syndrome\"\n",
    "url <- paste0(\"https://string-db.org/api/json/get_string_ids?identifiers=\", query, \"&species=9606\")\n",
    "\n",
    "# API request to STRING\n",
    "handle <- curl(url)\n",
    "results <- readLines(handle)\n",
    "close(handle)\n",
    "\n",
    "json <- fromJSON(results)\n",
    "\n",
    "#protein ID for SCN1A gene\n",
    "scn1a_protein_id <- json$stringId[json$preferredName == \"SCN1A\"]\n",
    "\n",
    "#protein ID for Dravet syndrome\n",
    "dravet_protein_ids <- json$stringId[json$preferredName == \"Dravet syndrome\"]\n",
    "\n",
    "#protein nodes\n",
    "proteins <- c(\"SCN1A\", scn1a_protein_id, dravet_protein_ids)\n",
    "protein_names <- c(\"SCN1A\", \"SCN1A protein\", \"Dravet protein\")\n",
    "protein_colors <- c(\"red\", \"blue\", \"blue\")\n",
    "\n",
    "#edges\n",
    "edges <- matrix(c(\"SCN1A\", scn1a_protein_id, \"SCN1A protein\", dravet_protein_ids), ncol = 2, byrow = TRUE)\n",
    "\n",
    "# Create graph \n",
    "g <- graph_from_edgelist(edges, directed = TRUE)\n",
    "\n",
    "# node names and colors\n",
    "V(g)$label <- protein_names\n",
    "V(g)$color <- protein_colors\n",
    "\n",
    "# edge colors\n",
    "E(g)$color <- \"black\"\n",
    "  \n",
    "# drugBank API query\n",
    "db_url <- \"https://api.drugbank.com/v1/targets?search=\"\n",
    "\n",
    "# API request to DrugBank\n",
    "drug_targets <- list()\n",
    "for (protein_id in proteins) {\n",
    "  drugbank_url <- paste0(db_url, protein_id)\n",
    "  handle <- curl(drugbank_url)\n",
    "  results <- readLines(handle)\n",
    "  close(handle)\n",
    "  json <- fromJSON(results)\n",
    "  if (length(json$targets) > 0) {\n",
    "    drug_targets[[protein_id]] <- json$targets[[1]]$drugs\n",
    "  } else {\n",
    "    drug_targets[[protein_id]] <- NULL\n",
    "  }\n",
    "}\n",
    "\n",
    "#  drug target nodes\n",
    "drug_nodes <- c()\n",
    "drug_names <- c()\n",
    "for (protein_id in names(drug_targets)) {\n",
    "  if (!is.null(drug_targets[[protein_id]])) {\n",
    "    drug_nodes <- c(drug_nodes, paste0(protein_id, \"-\", drug_targets[[protein_id]]$drugbank_id))\n",
    "    drug_names <- c(drug_names, drug_targets[[protein_id]]$name)\n",
    "  }\n",
    "}\n",
    "\n",
    "# add drug target nodes to graph\n",
    "g <- add.vertices(g, length(drug_nodes), label = drug_names, color = \"green\")\n",
    "V(g)$label <- c(protein_names, drug_names)\n",
    "\n",
    "# add drug target edges to graph\n",
    "drug_edges <- matrix(ncol = 2, nrow = 0)\n",
    "for (protein_id in names(drug_targets)) {\n",
    "  if (!is.null(drug_targets[[protein_id]])) {\n",
    "    for (i in 1:length(drug_targets[[protein_id]]$drugbank_id)) {\n",
    "      drug_edges <- rbind(drug_edges, c(paste0(protein_id, \"-\", drug_targets[[protein_id]]$drugbank_id[i]), protein_id))\n",
    "    }\n",
    "  }\n",
    "}\n",
    "g <- add.edges(g, drug_edges)\n",
    "\n",
    "# plot network\n",
    "plot(g, edge.curved = 0.2, edge.arrow.size = 0.5, layout = layout_nicely)\n"
   ]
  }
 ],
 "metadata": {
  "kernelspec": {
   "display_name": "Python 3 (ipykernel)",
   "language": "python",
   "name": "python3"
  },
  "language_info": {
   "codemirror_mode": {
    "name": "ipython",
    "version": 3
   },
   "file_extension": ".py",
   "mimetype": "text/x-python",
   "name": "python",
   "nbconvert_exporter": "python",
   "pygments_lexer": "ipython3",
   "version": "3.10.9"
  }
 },
 "nbformat": 4,
 "nbformat_minor": 5
}
